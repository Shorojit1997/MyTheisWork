{
 "cells": [
  {
   "cell_type": "code",
   "execution_count": 42,
   "id": "e911ab3d",
   "metadata": {},
   "outputs": [],
   "source": [
    "import pandas as pd\n",
    "df=pd.read_csv(\"user.csv\")\n",
    "import csv"
   ]
  },
  {
   "cell_type": "code",
   "execution_count": 43,
   "id": "e4cb39ae",
   "metadata": {},
   "outputs": [],
   "source": [
    "#df=df.sort_values(\"status\",ascending = True,inplace=False)"
   ]
  },
  {
   "cell_type": "code",
   "execution_count": 44,
   "id": "44b99b6b",
   "metadata": {},
   "outputs": [],
   "source": [
    "new_list={}\n",
    "\n",
    "for item in df.values:\n",
    "    if item[2] not in new_list:\n",
    "        new_list[item[2]]=[]\n",
    "    new_list[item[2]].append(item)"
   ]
  },
  {
   "cell_type": "code",
   "execution_count": 45,
   "id": "5cd24ef1",
   "metadata": {},
   "outputs": [
    {
     "name": "stdout",
     "output_type": "stream",
     "text": [
      "Expert  :  1271\n",
      "Newbie  :  1711\n",
      "Unrated,  :  202\n",
      "Candidate  :  477\n",
      "Master  :  408\n",
      "Grandmaster  :  133\n",
      "Pupil  :  1960\n",
      "International  :  180\n",
      "Legendary  :  27\n",
      "Specialist  :  1572\n",
      "newbiess  :  1\n",
      "FAPD  :  1\n",
      "Bonnie  :  1\n",
      "Three  :  1\n",
      "Nicole  :  1\n"
     ]
    }
   ],
   "source": [
    "for item in new_list:\n",
    "    x=new_list[item]\n",
    "    print(item,\" : \",len(x))\n",
    "  "
   ]
  },
  {
   "cell_type": "code",
   "execution_count": 46,
   "id": "6bdc13fa",
   "metadata": {},
   "outputs": [],
   "source": [
    "del_list=[\"newbiess\",\"FAPD\",\"Bonnie\",\"Three\",\"Nicole\",\"Unrated,\"]\n",
    "for li in del_list:\n",
    "    new_list[li]=[]\n",
    "    del new_list[li]"
   ]
  },
  {
   "cell_type": "code",
   "execution_count": 47,
   "id": "256414b6",
   "metadata": {},
   "outputs": [
    {
     "name": "stdout",
     "output_type": "stream",
     "text": [
      "Expert  :  1271\n",
      "Newbie  :  1711\n",
      "Candidate  :  477\n",
      "Master  :  408\n",
      "Grandmaster  :  133\n",
      "Pupil  :  1960\n",
      "International  :  180\n",
      "Legendary  :  27\n",
      "Specialist  :  1572\n"
     ]
    }
   ],
   "source": [
    "for item in new_list:\n",
    "    x=new_list[item]\n",
    "    print(item,\" : \",len(x))"
   ]
  },
  {
   "cell_type": "code",
   "execution_count": 48,
   "id": "0f640b5f",
   "metadata": {},
   "outputs": [],
   "source": [
    "choose={\n",
    "    \"Newbie\":200,\n",
    "    \"Pupil\":300,\n",
    "    \"Specialist\":400,\n",
    "    \"Expert\":400,\n",
    "    \"Candidate\":300,\n",
    "    \"Grandmaster\":100,\n",
    "    \"Master\":200,\n",
    "    \"International\":100,\n",
    "    \"Legendary\":27\n",
    "}\n",
    "\n",
    "main=[]\n",
    "for item in new_list:\n",
    "    x=new_list[item]\n",
    "    xx=x[:choose[item]]\n",
    "    for itt in xx:\n",
    "        dd={}\n",
    "        dd[\"Serial\"]=itt[0]\n",
    "        dd[\"Username\"]=itt[1]\n",
    "        dd[\"Status\"]=itt[2]\n",
    "        main.append(dd)\n",
    "\n"
   ]
  },
  {
   "cell_type": "code",
   "execution_count": 51,
   "id": "61f3b763",
   "metadata": {},
   "outputs": [],
   "source": [
    "import csv\n"
   ]
  },
  {
   "cell_type": "code",
   "execution_count": 50,
   "id": "3e660c9c",
   "metadata": {},
   "outputs": [
    {
     "data": {
      "text/plain": [
       "2027"
      ]
     },
     "execution_count": 50,
     "metadata": {},
     "output_type": "execute_result"
    }
   ],
   "source": [
    "filename = 'user_dataset.csv'\n",
    "with open(filename, 'w', newline='') as f:\n",
    "    w = csv.DictWriter(f,[\"Serial\",'Username','Status'])\n",
    "    w.writeheader()\n",
    "    w.writerows(main)\n",
    "len(main)"
   ]
  },
  {
   "cell_type": "code",
   "execution_count": 32,
   "id": "c8582edb",
   "metadata": {},
   "outputs": [
    {
     "ename": "AttributeError",
     "evalue": "'str' object has no attribute 'keys'",
     "output_type": "error",
     "traceback": [
      "\u001b[1;31m---------------------------------------------------------------------------\u001b[0m",
      "\u001b[1;31mAttributeError\u001b[0m                            Traceback (most recent call last)",
      "\u001b[1;32m~\\AppData\\Local\\Temp\\ipykernel_4732\\3783835937.py\u001b[0m in \u001b[0;36m<module>\u001b[1;34m\u001b[0m\n\u001b[0;32m      6\u001b[0m         \u001b[0mw\u001b[0m\u001b[1;33m.\u001b[0m\u001b[0mwriterows\u001b[0m\u001b[1;33m(\u001b[0m\u001b[0mnew_list\u001b[0m\u001b[1;33m)\u001b[0m\u001b[1;33m\u001b[0m\u001b[1;33m\u001b[0m\u001b[0m\n\u001b[0;32m      7\u001b[0m \u001b[1;33m\u001b[0m\u001b[0m\n\u001b[1;32m----> 8\u001b[1;33m \u001b[0mwriteFile\u001b[0m\u001b[1;33m(\u001b[0m\u001b[1;34m\"final_user\"\u001b[0m\u001b[1;33m,\u001b[0m\u001b[0mmain\u001b[0m\u001b[1;33m,\u001b[0m\u001b[1;33m[\u001b[0m\u001b[1;34m\"serial\"\u001b[0m\u001b[1;33m,\u001b[0m\u001b[1;34m\"user_name\"\u001b[0m\u001b[1;33m,\u001b[0m\u001b[1;34m\"status\"\u001b[0m\u001b[1;33m]\u001b[0m\u001b[1;33m)\u001b[0m\u001b[1;33m\u001b[0m\u001b[1;33m\u001b[0m\u001b[0m\n\u001b[0m",
      "\u001b[1;32m~\\AppData\\Local\\Temp\\ipykernel_4732\\3783835937.py\u001b[0m in \u001b[0;36mwriteFile\u001b[1;34m(filename, new_lists, columnHeaders)\u001b[0m\n\u001b[0;32m      4\u001b[0m         \u001b[0mw\u001b[0m \u001b[1;33m=\u001b[0m \u001b[0mcsv\u001b[0m\u001b[1;33m.\u001b[0m\u001b[0mDictWriter\u001b[0m\u001b[1;33m(\u001b[0m\u001b[0mf\u001b[0m\u001b[1;33m,\u001b[0m\u001b[0mcolumnHeaders\u001b[0m\u001b[1;33m)\u001b[0m\u001b[1;33m\u001b[0m\u001b[1;33m\u001b[0m\u001b[0m\n\u001b[0;32m      5\u001b[0m         \u001b[0mw\u001b[0m\u001b[1;33m.\u001b[0m\u001b[0mwriteheader\u001b[0m\u001b[1;33m(\u001b[0m\u001b[1;33m)\u001b[0m\u001b[1;33m\u001b[0m\u001b[1;33m\u001b[0m\u001b[0m\n\u001b[1;32m----> 6\u001b[1;33m         \u001b[0mw\u001b[0m\u001b[1;33m.\u001b[0m\u001b[0mwriterows\u001b[0m\u001b[1;33m(\u001b[0m\u001b[0mnew_list\u001b[0m\u001b[1;33m)\u001b[0m\u001b[1;33m\u001b[0m\u001b[1;33m\u001b[0m\u001b[0m\n\u001b[0m\u001b[0;32m      7\u001b[0m \u001b[1;33m\u001b[0m\u001b[0m\n\u001b[0;32m      8\u001b[0m \u001b[0mwriteFile\u001b[0m\u001b[1;33m(\u001b[0m\u001b[1;34m\"final_user\"\u001b[0m\u001b[1;33m,\u001b[0m\u001b[0mmain\u001b[0m\u001b[1;33m,\u001b[0m\u001b[1;33m[\u001b[0m\u001b[1;34m\"serial\"\u001b[0m\u001b[1;33m,\u001b[0m\u001b[1;34m\"user_name\"\u001b[0m\u001b[1;33m,\u001b[0m\u001b[1;34m\"status\"\u001b[0m\u001b[1;33m]\u001b[0m\u001b[1;33m)\u001b[0m\u001b[1;33m\u001b[0m\u001b[1;33m\u001b[0m\u001b[0m\n",
      "\u001b[1;32m~\\anaconda3\\lib\\csv.py\u001b[0m in \u001b[0;36mwriterows\u001b[1;34m(self, rowdicts)\u001b[0m\n\u001b[0;32m    155\u001b[0m \u001b[1;33m\u001b[0m\u001b[0m\n\u001b[0;32m    156\u001b[0m     \u001b[1;32mdef\u001b[0m \u001b[0mwriterows\u001b[0m\u001b[1;33m(\u001b[0m\u001b[0mself\u001b[0m\u001b[1;33m,\u001b[0m \u001b[0mrowdicts\u001b[0m\u001b[1;33m)\u001b[0m\u001b[1;33m:\u001b[0m\u001b[1;33m\u001b[0m\u001b[1;33m\u001b[0m\u001b[0m\n\u001b[1;32m--> 157\u001b[1;33m         \u001b[1;32mreturn\u001b[0m \u001b[0mself\u001b[0m\u001b[1;33m.\u001b[0m\u001b[0mwriter\u001b[0m\u001b[1;33m.\u001b[0m\u001b[0mwriterows\u001b[0m\u001b[1;33m(\u001b[0m\u001b[0mmap\u001b[0m\u001b[1;33m(\u001b[0m\u001b[0mself\u001b[0m\u001b[1;33m.\u001b[0m\u001b[0m_dict_to_list\u001b[0m\u001b[1;33m,\u001b[0m \u001b[0mrowdicts\u001b[0m\u001b[1;33m)\u001b[0m\u001b[1;33m)\u001b[0m\u001b[1;33m\u001b[0m\u001b[1;33m\u001b[0m\u001b[0m\n\u001b[0m\u001b[0;32m    158\u001b[0m \u001b[1;33m\u001b[0m\u001b[0m\n\u001b[0;32m    159\u001b[0m \u001b[1;31m# Guard Sniffer's type checking against builds that exclude complex()\u001b[0m\u001b[1;33m\u001b[0m\u001b[1;33m\u001b[0m\u001b[0m\n",
      "\u001b[1;32m~\\anaconda3\\lib\\csv.py\u001b[0m in \u001b[0;36m_dict_to_list\u001b[1;34m(self, rowdict)\u001b[0m\n\u001b[0;32m    145\u001b[0m     \u001b[1;32mdef\u001b[0m \u001b[0m_dict_to_list\u001b[0m\u001b[1;33m(\u001b[0m\u001b[0mself\u001b[0m\u001b[1;33m,\u001b[0m \u001b[0mrowdict\u001b[0m\u001b[1;33m)\u001b[0m\u001b[1;33m:\u001b[0m\u001b[1;33m\u001b[0m\u001b[1;33m\u001b[0m\u001b[0m\n\u001b[0;32m    146\u001b[0m         \u001b[1;32mif\u001b[0m \u001b[0mself\u001b[0m\u001b[1;33m.\u001b[0m\u001b[0mextrasaction\u001b[0m \u001b[1;33m==\u001b[0m \u001b[1;34m\"raise\"\u001b[0m\u001b[1;33m:\u001b[0m\u001b[1;33m\u001b[0m\u001b[1;33m\u001b[0m\u001b[0m\n\u001b[1;32m--> 147\u001b[1;33m             \u001b[0mwrong_fields\u001b[0m \u001b[1;33m=\u001b[0m \u001b[0mrowdict\u001b[0m\u001b[1;33m.\u001b[0m\u001b[0mkeys\u001b[0m\u001b[1;33m(\u001b[0m\u001b[1;33m)\u001b[0m \u001b[1;33m-\u001b[0m \u001b[0mself\u001b[0m\u001b[1;33m.\u001b[0m\u001b[0mfieldnames\u001b[0m\u001b[1;33m\u001b[0m\u001b[1;33m\u001b[0m\u001b[0m\n\u001b[0m\u001b[0;32m    148\u001b[0m             \u001b[1;32mif\u001b[0m \u001b[0mwrong_fields\u001b[0m\u001b[1;33m:\u001b[0m\u001b[1;33m\u001b[0m\u001b[1;33m\u001b[0m\u001b[0m\n\u001b[0;32m    149\u001b[0m                 raise ValueError(\"dict contains fields not in fieldnames: \"\n",
      "\u001b[1;31mAttributeError\u001b[0m: 'str' object has no attribute 'keys'"
     ]
    }
   ],
   "source": [
    "import csv\n",
    "def writeFile(filename,new_lists,columnHeaders):\n",
    "    with open(filename, 'w', newline='') as f:\n",
    "        w = csv.DictWriter(f,columnHeaders)\n",
    "        w.writeheader()\n",
    "        w.writerows(new_list)\n",
    "        \n",
    "writeFile(\"final_user\",main,[\"serial\",\"user_name\",\"status\"])"
   ]
  },
  {
   "cell_type": "code",
   "execution_count": null,
   "id": "a2a528a9",
   "metadata": {},
   "outputs": [],
   "source": []
  }
 ],
 "metadata": {
  "kernelspec": {
   "display_name": "Python 3 (ipykernel)",
   "language": "python",
   "name": "python3"
  },
  "language_info": {
   "codemirror_mode": {
    "name": "ipython",
    "version": 3
   },
   "file_extension": ".py",
   "mimetype": "text/x-python",
   "name": "python",
   "nbconvert_exporter": "python",
   "pygments_lexer": "ipython3",
   "version": "3.9.13"
  }
 },
 "nbformat": 4,
 "nbformat_minor": 5
}

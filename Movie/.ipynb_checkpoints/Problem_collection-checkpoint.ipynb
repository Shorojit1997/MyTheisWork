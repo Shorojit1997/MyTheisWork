{
 "cells": [
  {
   "cell_type": "markdown",
   "id": "321014f0",
   "metadata": {},
   "source": [
    "# ChatGPT code for\n"
   ]
  },
  {
   "cell_type": "code",
   "execution_count": 1,
   "id": "ea5ae5cb",
   "metadata": {},
   "outputs": [
    {
     "data": {
      "text/plain": [
       "(2027, 3)"
      ]
     },
     "execution_count": 1,
     "metadata": {},
     "output_type": "execute_result"
    }
   ],
   "source": [
    "import requests\n",
    "from bs4 import BeautifulSoup as bs\n",
    "import csv\n",
    "import pandas as pd\n",
    "\n",
    "df = pd.read_csv('user_dataset.csv')\n",
    "df.shape"
   ]
  },
  {
   "cell_type": "code",
   "execution_count": 2,
   "id": "8b6a6b88",
   "metadata": {},
   "outputs": [],
   "source": [
    "list1=df.iloc[:400]\n",
    "list2=df.iloc[400:500]\n",
    "list3=df.iloc[500:800]\n",
    "list4=df.iloc[800:1200]\n",
    "list5=df.iloc[1200:1600]\n",
    "list6=df.iloc[1600:]"
   ]
  },
  {
   "cell_type": "code",
   "execution_count": 3,
   "id": "91c5dcd0",
   "metadata": {},
   "outputs": [],
   "source": [
    "# usernames = df['Username'].tolist()\n",
    "\n",
    "# list_element = []\n",
    "# base = \"https://codeforces.com/submissions/\"\n",
    "\n",
    "# for user in usernames:\n",
    "#     ln = 100\n",
    "#     mp={}\n",
    "#     semi_list=[]\n",
    "#     for i in range(1, ln):\n",
    "#         URL = f\"{base}{user}/page/{i}\"\n",
    "#         req = requests.get(URL)\n",
    "#         soup = bs(req.text, \"html.parser\")\n",
    "#         titles = soup.find_all(\"tr\")\n",
    "#         if len(titles) <= 1:\n",
    "#             break\n",
    "#         titles = titles[1:]\n",
    "#         prev_len=len(semi_list)\n",
    "#         for title in titles:\n",
    "#             if not title.find_all('td'):\n",
    "#                 break\n",
    "\n",
    "#             problemId_element = title.select_one(':nth-child(4) > a')\n",
    "#             verdict_element = title.select_one(':nth-child(6)')\n",
    "\n",
    "#             if problemId_element and verdict_element:\n",
    "#                 problemId = problemId_element['href']\n",
    "#                 verdict = verdict_element.text\n",
    "\n",
    "#                 ve = problemId.split('/')\n",
    "#                 Id = ve[2] + ve[4]\n",
    "\n",
    "#                 d = {'Username': user, 'Problem_id': Id, 'Verdict': verdict}\n",
    "#                 if Id not in mp:\n",
    "#                     semi_list.append(d)\n",
    "#                     mp[Id]=1\n",
    "                    \n",
    "#         pres=len(semi_list)\n",
    "#         if(pres==prev_len or pres>=300):\n",
    "#             list_element.extend(semi_list)\n",
    "#             break\n",
    "#         if i%5==0:\n",
    "#             print(f\"Completed {user} for page {i}\")\n",
    "        \n",
    "\n",
    "# print(\"Finished scraping all submissions\")\n",
    "\n",
    "# # save data to a CSV file\n",
    "# df = pd.DataFrame(list_element)\n",
    "# df.to_csv('submissions.csv', index=False)\n"
   ]
  },
  {
   "cell_type": "code",
   "execution_count": 3,
   "id": "193f3834",
   "metadata": {},
   "outputs": [],
   "source": [
    "def generateFile(filename,df):\n",
    "    usernames = df['Username'].tolist()\n",
    "\n",
    "    list_element = []\n",
    "    base = \"https://codeforces.com/submissions/\"\n",
    "    cnt=1\n",
    "\n",
    "    for user in usernames:\n",
    "        ln = 100\n",
    "        mp={}\n",
    "        semi_list=[]\n",
    "        for i in range(1, ln):\n",
    "            URL = f\"{base}{user}/page/{i}\"\n",
    "            req = requests.get(URL)\n",
    "            soup = bs(req.text, \"html.parser\")\n",
    "            titles = soup.find_all(\"tr\")\n",
    "            if len(titles) <= 1:\n",
    "                break\n",
    "            titles = titles[1:]\n",
    "            prev_len=len(semi_list)\n",
    "            for title in titles:\n",
    "                if not title.find_all('td'):\n",
    "                    break\n",
    "\n",
    "                problemId_element = title.select_one(':nth-child(4) > a')\n",
    "                verdict_element = title.select_one(':nth-child(6)')\n",
    "\n",
    "                if problemId_element and verdict_element:\n",
    "                    problemId = problemId_element['href']\n",
    "                    verdict = verdict_element.text\n",
    "\n",
    "                    ve = problemId.split('/')\n",
    "                    Id = ve[2] + ve[4]\n",
    "\n",
    "                    d = {'Username': user, 'Problem_id': Id, 'Verdict': verdict}\n",
    "                    if Id not in mp:\n",
    "                        semi_list.append(d)\n",
    "                        mp[Id]=1\n",
    "\n",
    "            pres=len(semi_list)\n",
    "            if(pres==prev_len or pres>=300):\n",
    "                list_element.extend(semi_list)\n",
    "                break\n",
    "            if i<2:\n",
    "                print(f\"Completed {user} for page {i}\")\n",
    "                \n",
    "        cnt+=1\n",
    "        print(\"Completed : \",cnt,\" \",user)\n",
    "\n",
    "\n",
    "    print(\"Finished scraping of \",filename)\n",
    "\n",
    "    # save data to a CSV file\n",
    "    df = pd.DataFrame(list_element)\n",
    "    df.to_csv(filename, index=False)\n",
    "    return None"
   ]
  },
  {
   "cell_type": "code",
   "execution_count": 5,
   "id": "45b8b816",
   "metadata": {},
   "outputs": [],
   "source": [
    "#generateFile(\"submission1.csv\",list1)"
   ]
  },
  {
   "cell_type": "code",
   "execution_count": 6,
   "id": "a7b85e76",
   "metadata": {},
   "outputs": [],
   "source": [
    "#generateFile(\"submission2.csv\",list2)\n"
   ]
  },
  {
   "cell_type": "code",
   "execution_count": 7,
   "id": "5295f9f5",
   "metadata": {},
   "outputs": [],
   "source": [
    "#generateFile(\"submission3.csv\",list3)"
   ]
  },
  {
   "cell_type": "code",
   "execution_count": null,
   "id": "8f6ad299",
   "metadata": {},
   "outputs": [],
   "source": [
    "generateFile(\"submission4.csv\",list4)\n"
   ]
  },
  {
   "cell_type": "code",
   "execution_count": null,
   "id": "719f0200",
   "metadata": {},
   "outputs": [],
   "source": [
    "generateFile(\"submission5.csv\",list5)"
   ]
  }
 ],
 "metadata": {
  "kernelspec": {
   "display_name": "Python 3 (ipykernel)",
   "language": "python",
   "name": "python3"
  },
  "language_info": {
   "codemirror_mode": {
    "name": "ipython",
    "version": 3
   },
   "file_extension": ".py",
   "mimetype": "text/x-python",
   "name": "python",
   "nbconvert_exporter": "python",
   "pygments_lexer": "ipython3",
   "version": "3.9.13"
  }
 },
 "nbformat": 4,
 "nbformat_minor": 5
}

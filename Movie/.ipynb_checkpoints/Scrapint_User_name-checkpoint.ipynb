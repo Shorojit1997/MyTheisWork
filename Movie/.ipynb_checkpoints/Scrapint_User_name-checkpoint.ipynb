{
 "cells": [
  {
   "cell_type": "code",
   "execution_count": 80,
   "id": "083f5b45",
   "metadata": {},
   "outputs": [
    {
     "name": "stdout",
     "output_type": "stream",
     "text": [
      "Completed : 10  percentage\n",
      "Completed : 20  percentage\n",
      "Completed : 30  percentage\n",
      "Completed : 40  percentage\n",
      "Completed : 50  percentage\n",
      "Completed : 60  percentage\n",
      "Completed : 70  percentage\n",
      "Completed : 80  percentage\n",
      "Completed\n"
     ]
    }
   ],
   "source": [
    "import requests\n",
    "from bs4 import BeautifulSoup as bs\n",
    "import csv\n",
    "\n",
    "first='https://codeforces.com/problemset/status/1782/problem/D/page/'\n",
    "second='?order=BY_PROGRAM_LENGTH_ASC'\n",
    "\n",
    "titles_list = []\n",
    "count = 1\n",
    "for i in range(1,81):\n",
    "    URL=first+str(i)+second\n",
    "    req = requests.get(URL)\n",
    "    soup = bs(req.text, 'html.parser')\n",
    "    titles = soup.find_all('td',attrs={'class', 'status-party-cell'})\n",
    "    if(i%10==0):\n",
    "        print(\"Completed :\",i,\" percentage\")\n",
    "    for title in titles:\n",
    "        d={}\n",
    "        d['Serial']=str(count)\n",
    "        d['username']=title.a.text\n",
    "        x=title.a['title']\n",
    "        x=x.split(' ')\n",
    "        d['Status']=x[0]\n",
    "        count+=1\n",
    "        titles_list.append(d)\n",
    "\n",
    "print('Completed')"
   ]
  },
  {
   "cell_type": "code",
   "execution_count": 81,
   "id": "5889c2c9",
   "metadata": {},
   "outputs": [
    {
     "name": "stdout",
     "output_type": "stream",
     "text": [
      "4000\n"
     ]
    }
   ],
   "source": [
    "print(len(titles_list))"
   ]
  },
  {
   "cell_type": "code",
   "execution_count": 82,
   "id": "88c335e2",
   "metadata": {},
   "outputs": [
    {
     "name": "stdout",
     "output_type": "stream",
     "text": [
      "3523\n",
      "4000\n"
     ]
    }
   ],
   "source": [
    "mp={}\n",
    "new_list=[]\n",
    "for item in titles_list:\n",
    "    if item[\"username\"] not in mp:\n",
    "        mp[item[\"username\"]]=1\n",
    "        new_list.append(item)\n",
    "print(len(new_list))\n",
    "print(len(titles_list))"
   ]
  },
  {
   "cell_type": "code",
   "execution_count": null,
   "id": "6482acda",
   "metadata": {},
   "outputs": [],
   "source": []
  },
  {
   "cell_type": "code",
   "execution_count": 83,
   "id": "07142388",
   "metadata": {},
   "outputs": [],
   "source": [
    "filename = 'user4.csv'\n",
    "with open(filename, 'w', newline='') as f:\n",
    "    w = csv.DictWriter(f,[\"Serial\",'username','Status'])\n",
    "    w.writeheader()\n",
    "    w.writerows(new_list)"
   ]
  },
  {
   "cell_type": "code",
   "execution_count": 84,
   "id": "d305fa8c",
   "metadata": {},
   "outputs": [],
   "source": [
    "import pandas as pd\n",
    "first=pd.read_csv(\"user3.csv\")\n",
    "second=pd.read_csv(\"user4.csv\")\n"
   ]
  },
  {
   "cell_type": "code",
   "execution_count": 86,
   "id": "e875c2f9",
   "metadata": {},
   "outputs": [],
   "source": []
  },
  {
   "cell_type": "code",
   "execution_count": 88,
   "id": "af2e1503",
   "metadata": {},
   "outputs": [
    {
     "ename": "TypeError",
     "evalue": "string indices must be integers",
     "output_type": "error",
     "traceback": [
      "\u001b[1;31m---------------------------------------------------------------------------\u001b[0m",
      "\u001b[1;31mTypeError\u001b[0m                                 Traceback (most recent call last)",
      "\u001b[1;32m~\\AppData\\Local\\Temp\\ipykernel_12192\\4174402404.py\u001b[0m in \u001b[0;36m<module>\u001b[1;34m\u001b[0m\n\u001b[0;32m      2\u001b[0m \u001b[0mnew_list\u001b[0m\u001b[1;33m=\u001b[0m\u001b[1;33m[\u001b[0m\u001b[1;33m]\u001b[0m\u001b[1;33m\u001b[0m\u001b[1;33m\u001b[0m\u001b[0m\n\u001b[0;32m      3\u001b[0m \u001b[1;32mfor\u001b[0m \u001b[0mitem\u001b[0m \u001b[1;32min\u001b[0m \u001b[0mfirst\u001b[0m\u001b[1;33m:\u001b[0m\u001b[1;33m\u001b[0m\u001b[1;33m\u001b[0m\u001b[0m\n\u001b[1;32m----> 4\u001b[1;33m     \u001b[1;32mif\u001b[0m \u001b[0mitem\u001b[0m\u001b[1;33m[\u001b[0m\u001b[1;34m\"username\"\u001b[0m\u001b[1;33m]\u001b[0m \u001b[1;32mnot\u001b[0m \u001b[1;32min\u001b[0m \u001b[0mmp\u001b[0m\u001b[1;33m:\u001b[0m\u001b[1;33m\u001b[0m\u001b[1;33m\u001b[0m\u001b[0m\n\u001b[0m\u001b[0;32m      5\u001b[0m         \u001b[0mmp\u001b[0m\u001b[1;33m[\u001b[0m\u001b[0mitem\u001b[0m\u001b[1;33m[\u001b[0m\u001b[1;34m\"username\"\u001b[0m\u001b[1;33m]\u001b[0m\u001b[1;33m]\u001b[0m\u001b[1;33m=\u001b[0m\u001b[1;36m1\u001b[0m\u001b[1;33m\u001b[0m\u001b[1;33m\u001b[0m\u001b[0m\n\u001b[0;32m      6\u001b[0m         \u001b[0mnew_list\u001b[0m\u001b[1;33m.\u001b[0m\u001b[0mappend\u001b[0m\u001b[1;33m(\u001b[0m\u001b[0mitem\u001b[0m\u001b[1;33m)\u001b[0m\u001b[1;33m\u001b[0m\u001b[1;33m\u001b[0m\u001b[0m\n",
      "\u001b[1;31mTypeError\u001b[0m: string indices must be integers"
     ]
    }
   ],
   "source": [
    "mp={}\n",
    "new_list=[]\n",
    "for item in first:\n",
    "    if item[\"username\"] not in mp:\n",
    "        mp[item[\"username\"]]=1\n",
    "        new_list.append(item)"
   ]
  },
  {
   "cell_type": "code",
   "execution_count": null,
   "id": "3b5ecd3e",
   "metadata": {},
   "outputs": [],
   "source": []
  }
 ],
 "metadata": {
  "kernelspec": {
   "display_name": "Python 3 (ipykernel)",
   "language": "python",
   "name": "python3"
  },
  "language_info": {
   "codemirror_mode": {
    "name": "ipython",
    "version": 3
   },
   "file_extension": ".py",
   "mimetype": "text/x-python",
   "name": "python",
   "nbconvert_exporter": "python",
   "pygments_lexer": "ipython3",
   "version": "3.9.13"
  }
 },
 "nbformat": 4,
 "nbformat_minor": 5
}
